{
 "cells": [
  {
   "cell_type": "code",
   "execution_count": 1,
   "id": "1ea9319f",
   "metadata": {},
   "outputs": [],
   "source": [
    "# https://github.com/stefan-jansen/machine-learning-for-trading/blob/f652d79ab2f137d75d554af2cc437a5512b16069/data/create_datasets.ipynb"
   ]
  },
  {
   "cell_type": "code",
   "execution_count": null,
   "id": "47d59fd1",
   "metadata": {},
   "outputs": [],
   "source": [
    "# pip install tables"
   ]
  },
  {
   "cell_type": "markdown",
   "id": "7116c450",
   "metadata": {},
   "source": [
    "### Quandl Wiki Prices"
   ]
  },
  {
   "cell_type": "code",
   "execution_count": 8,
   "id": "47b386b4",
   "metadata": {},
   "outputs": [],
   "source": [
    "import warnings\n",
    "warnings.filterwarnings('ignore')\n",
    "\n",
    "from pathlib import Path\n",
    "import requests\n",
    "from io import BytesIO\n",
    "from zipfile import ZipFile, BadZipFile\n",
    "\n",
    "import numpy as np\n",
    "import pandas as pd\n",
    "import pandas_datareader.data as web\n",
    "from sklearn.datasets import fetch_openml\n",
    "\n",
    "pd.set_option('display.expand_frame_repr', False)\n",
    "\n",
    "DATA_STORE = Path('assets.h5')\n"
   ]
  },
  {
   "cell_type": "markdown",
   "id": "59615ce3",
   "metadata": {},
   "source": [
    "### 下载地址 download URL\n",
    "https://data.nasdaq.com/tables/WIKIP/WIKI-PRICES/export  \n",
    "解压并重命名wiki_prices.csv  \n",
    "Extract the .zip file and rename to wiki_prices.csv"
   ]
  },
  {
   "cell_type": "markdown",
   "id": "b7e1d119",
   "metadata": {},
   "source": [
    "### Wiki Prices Metadata\n",
    "https://github.com/stefan-jansen/machine-learning-for-trading/blob/f652d79ab2f137d75d554af2cc437a5512b16069/data/wiki_stocks.csv  \n"
   ]
  },
  {
   "cell_type": "markdown",
   "id": "964b506d",
   "metadata": {},
   "source": [
    "### Parse data 处理数据"
   ]
  },
  {
   "cell_type": "code",
   "execution_count": 4,
   "id": "ad66977b",
   "metadata": {},
   "outputs": [
    {
     "name": "stdout",
     "output_type": "stream",
     "text": [
      "2.3.2\n"
     ]
    }
   ],
   "source": [
    "import pandas as pd\n",
    "print(pd.__version__)\n",
    "# print(df.info(null_counts=True))  # pandas（<=1.0）\n",
    "# print(df.info(show_counts=True))  # pandas（>=1.1）\n"
   ]
  },
  {
   "cell_type": "code",
   "execution_count": 5,
   "id": "178fdeaa",
   "metadata": {},
   "outputs": [
    {
     "name": "stdout",
     "output_type": "stream",
     "text": [
      "<class 'pandas.core.frame.DataFrame'>\n",
      "MultiIndex: 15389314 entries, (Timestamp('1962-01-02 00:00:00'), 'ARNC') to (Timestamp('2018-03-27 00:00:00'), 'ZUMZ')\n",
      "Data columns (total 12 columns):\n",
      " #   Column       Non-Null Count     Dtype  \n",
      "---  ------       --------------     -----  \n",
      " 0   open         15388776 non-null  float64\n",
      " 1   high         15389259 non-null  float64\n",
      " 2   low          15389259 non-null  float64\n",
      " 3   close        15389313 non-null  float64\n",
      " 4   volume       15389314 non-null  float64\n",
      " 5   ex-dividend  15389314 non-null  float64\n",
      " 6   split_ratio  15389313 non-null  float64\n",
      " 7   adj_open     15388776 non-null  float64\n",
      " 8   adj_high     15389259 non-null  float64\n",
      " 9   adj_low      15389259 non-null  float64\n",
      " 10  adj_close    15389313 non-null  float64\n",
      " 11  adj_volume   15389314 non-null  float64\n",
      "dtypes: float64(12)\n",
      "memory usage: 1.4+ GB\n",
      "None\n",
      "                     open    high     low   close   volume  ex-dividend  split_ratio  adj_open  adj_high   adj_low  adj_close  adj_volume\n",
      "date       ticker                                                                                                                        \n",
      "1962-01-02 ARNC     65.56   65.75   65.38   65.38   5600.0          0.0          1.0  3.458163  3.468185  3.448668   3.448668   44800.000\n",
      "           BA       50.88   50.88   50.00   50.00  11595.0          0.0          1.0  0.887160  0.887160  0.871816   0.871816  352198.125\n",
      "           CAT      38.50   38.87   38.12   38.50  13600.0          0.0          1.0  1.578370  1.593539  1.562791   1.578370  163200.000\n",
      "           DD      241.50  244.25  241.50  241.50   2000.0          0.0          1.0  4.718414  4.772144  4.718414   4.718414   36000.000\n",
      "           DIS      37.25   38.50   37.25   37.25   2098.0          0.0          1.0  0.141259  0.145999  0.141259   0.141259  408858.240\n"
     ]
    }
   ],
   "source": [
    "df = (pd.read_csv('wiki_prices.csv',\n",
    "                 parse_dates=['date'],\n",
    "                 index_col=['date', 'ticker'],\n",
    "                 infer_datetime_format=True)\n",
    "     .sort_index())\n",
    "\n",
    "print(df.info(show_counts=True))\n",
    "with pd.HDFStore(DATA_STORE) as store:\n",
    "    store.put('quandl/wiki/prices', df)\n",
    "print(df.head())"
   ]
  },
  {
   "cell_type": "code",
   "execution_count": 6,
   "id": "d18f8c1a",
   "metadata": {},
   "outputs": [
    {
     "name": "stdout",
     "output_type": "stream",
     "text": [
      "                    open   high    low  close      volume  ex-dividend  split_ratio  adj_open  adj_high  adj_low  adj_close  adj_volume\n",
      "date       ticker                                                                                                                      \n",
      "2018-03-27 ZIXI     4.43   4.45   4.35   4.39    207304.0          0.0          1.0      4.43      4.45     4.35       4.39    207304.0\n",
      "           ZNGA     3.85   3.85   3.68   3.70  11026010.0          0.0          1.0      3.85      3.85     3.68       3.70  11026010.0\n",
      "           ZOES    15.13  15.24  14.75  14.88    261242.0          0.0          1.0     15.13     15.24    14.75      14.88    261242.0\n",
      "           ZTS     84.08  84.45  81.21  81.86   2676191.0          0.0          1.0     84.08     84.45    81.21      81.86   2676191.0\n",
      "           ZUMZ    24.65  24.65  23.35  23.60    403884.0          0.0          1.0     24.65     24.65    23.35      23.60    403884.0\n"
     ]
    }
   ],
   "source": [
    "print(df.tail())"
   ]
  },
  {
   "cell_type": "code",
   "execution_count": 7,
   "id": "83a4d55c",
   "metadata": {},
   "outputs": [
    {
     "name": "stdout",
     "output_type": "stream",
     "text": [
      "<class 'pandas.core.frame.DataFrame'>\n",
      "RangeIndex: 3199 entries, 0 to 3198\n",
      "Data columns (total 2 columns):\n",
      " #   Column  Non-Null Count  Dtype \n",
      "---  ------  --------------  ----- \n",
      " 0   code    3199 non-null   object\n",
      " 1   name    3199 non-null   object\n",
      "dtypes: object(2)\n",
      "memory usage: 50.1+ KB\n",
      "None\n",
      "   code                          name\n",
      "0     A     Agilent Technologies Inc.\n",
      "1    AA                    Alcoa Inc.\n",
      "2   AAL  American Airlines Group Inc.\n",
      "3  AAMC   Altisource Asset Management\n",
      "4   AAN                  Aaron's Inc.\n",
      "      code               name\n",
      "3194  ZNGA         Zynga Inc.\n",
      "3195  ZOES  Zoe's Kitchen Inc\n",
      "3196   ZQK    Quiksilver Inc.\n",
      "3197   ZTS         Zoetis Inc\n",
      "3198  ZUMZ        Zumiez Inc.\n"
     ]
    }
   ],
   "source": [
    "df = pd.read_csv('wiki_stocks.csv')\n",
    "print(df.info(show_counts=True))\n",
    "with pd.HDFStore(DATA_STORE) as store:\n",
    "    store.put('quandl/wiki/stocks', df)\n",
    "print(df.head())\n",
    "print(df.tail())"
   ]
  },
  {
   "cell_type": "code",
   "execution_count": 9,
   "id": "e6145bc6",
   "metadata": {},
   "outputs": [
    {
     "name": "stdout",
     "output_type": "stream",
     "text": [
      "<class 'pandas.core.frame.DataFrame'>\n",
      "RangeIndex: 6834 entries, 0 to 6833\n",
      "Data columns (total 7 columns):\n",
      " #   Column     Non-Null Count  Dtype  \n",
      "---  ------     --------------  -----  \n",
      " 0   ticker     6834 non-null   object \n",
      " 1   name       6834 non-null   object \n",
      " 2   lastsale   6718 non-null   float64\n",
      " 3   marketcap  5766 non-null   float64\n",
      " 4   ipoyear    3038 non-null   float64\n",
      " 5   sector     5288 non-null   object \n",
      " 6   industry   5288 non-null   object \n",
      "dtypes: float64(3), object(4)\n",
      "memory usage: 373.9+ KB\n"
     ]
    }
   ],
   "source": [
    "df = pd.read_csv('us_equities_meta_data.csv')\n",
    "df.info()\n",
    "with pd.HDFStore(DATA_STORE) as store:\n",
    "    store.put('us_equities/stocks', df.set_index('ticker'))"
   ]
  },
  {
   "cell_type": "code",
   "execution_count": null,
   "id": "94ca6f55",
   "metadata": {},
   "outputs": [],
   "source": []
  }
 ],
 "metadata": {
  "kernelspec": {
   "display_name": "rpa",
   "language": "python",
   "name": "python3"
  },
  "language_info": {
   "codemirror_mode": {
    "name": "ipython",
    "version": 3
   },
   "file_extension": ".py",
   "mimetype": "text/x-python",
   "name": "python",
   "nbconvert_exporter": "python",
   "pygments_lexer": "ipython3",
   "version": "3.10.11"
  }
 },
 "nbformat": 4,
 "nbformat_minor": 5
}
